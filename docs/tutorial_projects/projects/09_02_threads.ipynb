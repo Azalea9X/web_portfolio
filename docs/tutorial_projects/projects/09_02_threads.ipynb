{
 "cells": [
  {
   "cell_type": "code",
   "execution_count": 2,
   "id": "48a15793",
   "metadata": {
    "scrolled": true
   },
   "outputs": [],
   "source": [
    "import threading\n",
    "import time"
   ]
  },
  {
   "cell_type": "markdown",
   "id": "5be113b0",
   "metadata": {},
   "source": [
    "## Threads"
   ]
  },
  {
   "cell_type": "code",
   "execution_count": 3,
   "id": "230c796a",
   "metadata": {
    "scrolled": true
   },
   "outputs": [
    {
     "data": {
      "text/plain": [
       "[0, 1, 4, 9, 16]"
      ]
     },
     "execution_count": 3,
     "metadata": {},
     "output_type": "execute_result"
    }
   ],
   "source": [
    "def longSquare(num):\n",
    "    time.sleep(1)\n",
    "    return num**2\n",
    "\n",
    "[longSquare(n) for n in range(0, 5)]\n"
   ]
  },
  {
   "cell_type": "code",
   "execution_count": 4,
   "id": "f105891d",
   "metadata": {},
   "outputs": [],
   "source": [
    "t1 = threading.Thread(target=longSquare, args=(1,))\n",
    "t2 = threading.Thread(target=longSquare, args=(2,))\n",
    "\n",
    "t1.start()\n",
    "t2.start()\n",
    "\n",
    "t1.join()\n",
    "t2.join()\n"
   ]
  },
  {
   "cell_type": "code",
   "execution_count": 5,
   "id": "5be33021",
   "metadata": {},
   "outputs": [
    {
     "name": "stdout",
     "output_type": "stream",
     "text": [
      "{1: 1, 2: 4}\n"
     ]
    }
   ],
   "source": [
    "\n",
    "\n",
    "def longSquare(num, results):\n",
    "    time.sleep(1)\n",
    "    results[num] = num**2\n",
    "\n",
    "results = {}\n",
    "t1 = threading.Thread(target=longSquare, args=(1,results))\n",
    "t2 = threading.Thread(target=longSquare, args=(2,results))\n",
    "\n",
    "t1.start()\n",
    "t2.start()\n",
    "\n",
    "t1.join()\n",
    "t2.join()\n",
    "\n",
    "print(results)\n"
   ]
  },
  {
   "cell_type": "code",
   "execution_count": 6,
   "id": "6f9a6201",
   "metadata": {},
   "outputs": [
    {
     "name": "stdout",
     "output_type": "stream",
     "text": [
      "{0: 0, 17: 289, 1: 1, 2: 4, 3: 9, 4: 16, 5: 25, 6: 36, 7: 49, 8: 64, 9: 81, 10: 100, 11: 121, 12: 144, 13: 169, 14: 196, 15: 225, 16: 256, 18: 324, 19: 361, 20: 400, 29: 841, 25: 625, 24: 576, 21: 441, 28: 784, 30: 900, 31: 961, 33: 1089, 34: 1156, 35: 1225, 36: 1296, 37: 1369, 38: 1444, 39: 1521, 40: 1600, 41: 1681, 42: 1764, 43: 1849, 46: 2116, 47: 2209, 48: 2304, 51: 2601, 52: 2704, 53: 2809, 56: 3136, 22: 484, 23: 529, 26: 676, 27: 729, 49: 2401, 50: 2500, 54: 2916, 55: 3025, 32: 1024, 45: 2025, 44: 1936, 57: 3249, 66: 4356, 67: 4489, 68: 4624, 70: 4900, 72: 5184, 73: 5329, 74: 5476, 75: 5625, 76: 5776, 77: 5929, 78: 6084, 79: 6241, 80: 6400, 81: 6561, 82: 6724, 84: 7056, 58: 3364, 59: 3481, 61: 3721, 71: 5041, 63: 3969, 64: 4096, 65: 4225, 69: 4761, 83: 6889, 60: 3600, 62: 3844, 85: 7225, 86: 7396, 92: 8464, 93: 8649, 91: 8281, 87: 7569, 88: 7744, 89: 7921, 90: 8100, 94: 8836, 95: 9025, 97: 9409, 98: 9604, 99: 9801, 96: 9216}\n"
     ]
    }
   ],
   "source": [
    "\n",
    "\n",
    "def longSquare(num, results):\n",
    "    time.sleep(1)\n",
    "    results[num] = num**2\n",
    "\n",
    "results = {}\n",
    "threads = [threading.Thread(target=longSquare, args=(n, results)) for n in range(0, 100)]\n",
    "[t.start() for t in threads]\n",
    "[t.join() for t in threads]\n",
    "print(results)\n"
   ]
  },
  {
   "cell_type": "code",
   "execution_count": null,
   "id": "c63a0969",
   "metadata": {},
   "outputs": [],
   "source": []
  },
  {
   "cell_type": "code",
   "execution_count": null,
   "id": "b9f5b983",
   "metadata": {},
   "outputs": [],
   "source": []
  }
 ],
 "metadata": {
  "kernelspec": {
   "display_name": "Python 3 (ipykernel)",
   "language": "python",
   "name": "python3"
  },
  "language_info": {
   "codemirror_mode": {
    "name": "ipython",
    "version": 3
   },
   "file_extension": ".py",
   "mimetype": "text/x-python",
   "name": "python",
   "nbconvert_exporter": "python",
   "pygments_lexer": "ipython3",
   "version": "3.11.0"
  }
 },
 "nbformat": 4,
 "nbformat_minor": 5
}
